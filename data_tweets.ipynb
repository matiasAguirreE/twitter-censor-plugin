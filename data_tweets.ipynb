{
 "cells": [
  {
   "cell_type": "code",
   "execution_count": null,
   "id": "8e1aff6e",
   "metadata": {},
   "outputs": [
    {
     "name": "stdout",
     "output_type": "stream",
     "text": [
      "Primeras filas de TweetsLako:\n",
      "                                               Tweet    Tweet_Padre  \\\n",
      "0                   No queremos más venecos en Chile  SinTweetPadre   \n",
      "1  El negro Piñera se murió hace dos meses y ya N...  SinTweetPadre   \n",
      "2  “De venir de la calle …a vivir de lujos gracia...  SinTweetPadre   \n",
      "3  5:47 y ya está oscuro, ¿esa wea querian los in...  SinTweetPadre   \n",
      "4  Uno se pregunta como negros qls pobres q vagan...  SinTweetPadre   \n",
      "\n",
      "   Violencia  Homofobia  Xenofobia  Incensurable  \n",
      "0          0          0          1             0  \n",
      "1          0          0          0             1  \n",
      "2          0          0          0             1  \n",
      "3          0          0          0             1  \n",
      "4          0          0          1             0  \n",
      "\n",
      "---\n",
      "\n"
     ]
    }
   ],
   "source": [
    "import os\n",
    "import pandas as pd\n",
    "\n",
    "carpeta_tweets = \"./tweets\"\n",
    "\n",
    "categorias_posibles = [\"Violencia\", \"Homofobia\", \"Xenofobia\", \"Incensurable\"]\n",
    "\n",
    "dataframes_por_archivo = {}\n",
    "\n",
    "for nombre_archivo in os.listdir(carpeta_tweets):\n",
    "    if nombre_archivo.endswith(\".txt\"):\n",
    "        ruta_archivo = os.path.join(carpeta_tweets, nombre_archivo)\n",
    "\n",
    "        datos = []\n",
    "        with open(ruta_archivo, mode='r', encoding='utf-8') as archivo:\n",
    "            for linea in archivo:\n",
    "                partes = linea.strip().split(\"#############\")\n",
    "                if len(partes) != 3:\n",
    "                    continue\n",
    "\n",
    "                texto, etiquetas, tweet_padre = partes\n",
    "\n",
    "                etiquetas_set = set(et.strip() for et in etiquetas.split(\",\") if et.strip())\n",
    "                if not etiquetas_set:\n",
    "                    etiquetas_set = {\"Incensurable\"}\n",
    "\n",
    "                fila = {\n",
    "                    \"Tweet\": texto,\n",
    "                    \"Tweet_Padre\": tweet_padre\n",
    "                }\n",
    "\n",
    "                for cat in categorias_posibles:\n",
    "                    fila[cat] = int(cat in etiquetas_set)\n",
    "\n",
    "                datos.append(fila)\n",
    "\n",
    "        nombre_df = os.path.splitext(nombre_archivo)[0]\n",
    "        df = pd.DataFrame(datos)\n",
    "        dataframes_por_archivo[nombre_df] = df\n",
    "\n",
    "for nombre, df in dataframes_por_archivo.items():\n",
    "    print(f\"Primeras filas de {nombre}:\")\n",
    "    print(df.head())\n",
    "    print(\"\\n---\\n\")\n"
   ]
  },
  {
   "cell_type": "code",
   "execution_count": 2,
   "id": "ea3e4952",
   "metadata": {},
   "outputs": [
    {
     "name": "stdout",
     "output_type": "stream",
     "text": [
      "Conteo por categoría para: TweetsLako\n",
      "Violencia       50\n",
      "Homofobia       50\n",
      "Xenofobia       50\n",
      "Incensurable    50\n",
      "dtype: int64\n",
      "\n",
      "---\n",
      "\n"
     ]
    }
   ],
   "source": [
    "for nombre, df in dataframes_por_archivo.items():\n",
    "    print(f\"Conteo por categoría para: {nombre}\")\n",
    "    conteo_por_categoria = df[categorias_posibles].sum().sort_values(ascending=False)\n",
    "    print(conteo_por_categoria)\n",
    "    print(\"\\n---\\n\")\n",
    "\n"
   ]
  },
  {
   "cell_type": "code",
   "execution_count": 4,
   "id": "6dd5175f",
   "metadata": {},
   "outputs": [
    {
     "data": {
      "application/vnd.microsoft.datawrangler.viewer.v0+json": {
       "columns": [
        {
         "name": "index",
         "rawType": "int64",
         "type": "integer"
        },
        {
         "name": "Tweet",
         "rawType": "object",
         "type": "string"
        },
        {
         "name": "Tweet_Padre",
         "rawType": "object",
         "type": "string"
        },
        {
         "name": "Violencia",
         "rawType": "int64",
         "type": "integer"
        },
        {
         "name": "Homofobia",
         "rawType": "int64",
         "type": "integer"
        },
        {
         "name": "Xenofobia",
         "rawType": "int64",
         "type": "integer"
        },
        {
         "name": "Incensurable",
         "rawType": "int64",
         "type": "integer"
        }
       ],
       "conversionMethod": "pd.DataFrame",
       "ref": "528c8348-1ad1-4e51-b4a8-9bdbbd4d6ce6",
       "rows": [
        [
         "0",
         "No queremos más venecos en Chile",
         "SinTweetPadre",
         "0",
         "0",
         "1",
         "0"
        ],
        [
         "1",
         "El negro Piñera se murió hace dos meses y ya NADIE se acuerda de él, Felipe Camiroaga se fue hace más de una década y los chilenos aún lo lloramos como si hubiera fallecido ayer, esa es la diferencia entre un tipo honorable y otro que era representante de una cueva de mafiosos. Cómo olvidar cuando Felipe Camiroaga fue amenazado por tocar a un ministro del desgobierno de Piraña.    #JuntemonosConFelipe #JuntemonosConFelipe",
         "SinTweetPadre",
         "0",
         "0",
         "0",
         "1"
        ],
        [
         "2",
         "“De venir de la calle …a vivir de lujos gracias al Estado..a vivir la Vida Rosa ..BORIC LE MINTIÓ A TODO CHILE”  “Nadie renuncia a nada están apenados hasta recibir el último peso del Estado” SINVERGÜENZAS !!",
         "SinTweetPadre",
         "0",
         "0",
         "0",
         "1"
        ],
        [
         "3",
         "5:47 y ya está oscuro, ¿esa wea querian los invernistas?",
         "SinTweetPadre",
         "0",
         "0",
         "0",
         "1"
        ],
        [
         "4",
         "Uno se pregunta como negros qls pobres q vagan por las calles, con problemas mentales, sin nada q aportar llegaron a Chile desde una isla en el caribe",
         "SinTweetPadre",
         "0",
         "0",
         "1",
         "0"
        ]
       ],
       "shape": {
        "columns": 6,
        "rows": 5
       }
      },
      "text/html": [
       "<div>\n",
       "<style scoped>\n",
       "    .dataframe tbody tr th:only-of-type {\n",
       "        vertical-align: middle;\n",
       "    }\n",
       "\n",
       "    .dataframe tbody tr th {\n",
       "        vertical-align: top;\n",
       "    }\n",
       "\n",
       "    .dataframe thead th {\n",
       "        text-align: right;\n",
       "    }\n",
       "</style>\n",
       "<table border=\"1\" class=\"dataframe\">\n",
       "  <thead>\n",
       "    <tr style=\"text-align: right;\">\n",
       "      <th></th>\n",
       "      <th>Tweet</th>\n",
       "      <th>Tweet_Padre</th>\n",
       "      <th>Violencia</th>\n",
       "      <th>Homofobia</th>\n",
       "      <th>Xenofobia</th>\n",
       "      <th>Incensurable</th>\n",
       "    </tr>\n",
       "  </thead>\n",
       "  <tbody>\n",
       "    <tr>\n",
       "      <th>0</th>\n",
       "      <td>No queremos más venecos en Chile</td>\n",
       "      <td>SinTweetPadre</td>\n",
       "      <td>0</td>\n",
       "      <td>0</td>\n",
       "      <td>1</td>\n",
       "      <td>0</td>\n",
       "    </tr>\n",
       "    <tr>\n",
       "      <th>1</th>\n",
       "      <td>El negro Piñera se murió hace dos meses y ya N...</td>\n",
       "      <td>SinTweetPadre</td>\n",
       "      <td>0</td>\n",
       "      <td>0</td>\n",
       "      <td>0</td>\n",
       "      <td>1</td>\n",
       "    </tr>\n",
       "    <tr>\n",
       "      <th>2</th>\n",
       "      <td>“De venir de la calle …a vivir de lujos gracia...</td>\n",
       "      <td>SinTweetPadre</td>\n",
       "      <td>0</td>\n",
       "      <td>0</td>\n",
       "      <td>0</td>\n",
       "      <td>1</td>\n",
       "    </tr>\n",
       "    <tr>\n",
       "      <th>3</th>\n",
       "      <td>5:47 y ya está oscuro, ¿esa wea querian los in...</td>\n",
       "      <td>SinTweetPadre</td>\n",
       "      <td>0</td>\n",
       "      <td>0</td>\n",
       "      <td>0</td>\n",
       "      <td>1</td>\n",
       "    </tr>\n",
       "    <tr>\n",
       "      <th>4</th>\n",
       "      <td>Uno se pregunta como negros qls pobres q vagan...</td>\n",
       "      <td>SinTweetPadre</td>\n",
       "      <td>0</td>\n",
       "      <td>0</td>\n",
       "      <td>1</td>\n",
       "      <td>0</td>\n",
       "    </tr>\n",
       "  </tbody>\n",
       "</table>\n",
       "</div>"
      ],
      "text/plain": [
       "                                               Tweet    Tweet_Padre  \\\n",
       "0                   No queremos más venecos en Chile  SinTweetPadre   \n",
       "1  El negro Piñera se murió hace dos meses y ya N...  SinTweetPadre   \n",
       "2  “De venir de la calle …a vivir de lujos gracia...  SinTweetPadre   \n",
       "3  5:47 y ya está oscuro, ¿esa wea querian los in...  SinTweetPadre   \n",
       "4  Uno se pregunta como negros qls pobres q vagan...  SinTweetPadre   \n",
       "\n",
       "   Violencia  Homofobia  Xenofobia  Incensurable  \n",
       "0          0          0          1             0  \n",
       "1          0          0          0             1  \n",
       "2          0          0          0             1  \n",
       "3          0          0          0             1  \n",
       "4          0          0          1             0  "
      ]
     },
     "execution_count": 4,
     "metadata": {},
     "output_type": "execute_result"
    }
   ],
   "source": [
    "df_unificado = pd.concat(dataframes_por_archivo.values(), ignore_index=True)\n",
    "df_unificado.head()"
   ]
  },
  {
   "cell_type": "code",
   "execution_count": 5,
   "id": "77c799a4",
   "metadata": {},
   "outputs": [
    {
     "name": "stdout",
     "output_type": "stream",
     "text": [
      "Tweets duplicados:\n",
      "Empty DataFrame\n",
      "Columns: [Tweet, Tweet_Padre, Violencia, Homofobia, Xenofobia, Incensurable]\n",
      "Index: []\n"
     ]
    }
   ],
   "source": [
    "tweets_duplicados = df_unificado[df_unificado.duplicated(subset='Tweet', keep=False)]\n",
    "\n",
    "print(\"Tweets duplicados:\")\n",
    "print(tweets_duplicados)\n"
   ]
  }
 ],
 "metadata": {
  "kernelspec": {
   "display_name": "tweets",
   "language": "python",
   "name": "python3"
  },
  "language_info": {
   "codemirror_mode": {
    "name": "ipython",
    "version": 3
   },
   "file_extension": ".py",
   "mimetype": "text/x-python",
   "name": "python",
   "nbconvert_exporter": "python",
   "pygments_lexer": "ipython3",
   "version": "3.11.2"
  }
 },
 "nbformat": 4,
 "nbformat_minor": 5
}
