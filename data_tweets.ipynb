{
 "cells": [
  {
   "cell_type": "code",
   "execution_count": 8,
   "id": "8e1aff6e",
   "metadata": {},
   "outputs": [
    {
     "name": "stdout",
     "output_type": "stream",
     "text": [
      "Primeras filas de TweetsLako:\n",
      "                                               Tweet    Tweet_Padre  \\\n",
      "0                   No queremos más venecos en Chile  SinTweetPadre   \n",
      "1  El negro Piñera se murió hace dos meses y ya N...  SinTweetPadre   \n",
      "2  “De venir de la calle …a vivir de lujos gracia...  SinTweetPadre   \n",
      "3  5:47 y ya está oscuro, ¿esa wea querian los in...  SinTweetPadre   \n",
      "4  Uno se pregunta como negros qls pobres q vagan...  SinTweetPadre   \n",
      "\n",
      "   Violencia  Homofobia  Xenofobia  Incensurable  \n",
      "0          0          0          1             0  \n",
      "1          0          0          0             1  \n",
      "2          0          0          0             1  \n",
      "3          0          0          0             1  \n",
      "4          0          0          1             0  \n",
      "\n",
      "---\n",
      "\n"
     ]
    }
   ],
   "source": [
    "import os\n",
    "import pandas as pd\n",
    "import numpy as np\n",
    "\n",
    "carpeta_tweets = \"./tweets\"\n",
    "\n",
    "categorias_posibles = [\"Violencia\", \"Homofobia\", \"Xenofobia\", \"Incensurable\"]\n",
    "\n",
    "dataframes_por_archivo = {}\n",
    "\n",
    "for nombre_archivo in os.listdir(carpeta_tweets):\n",
    "    if nombre_archivo.endswith(\".txt\"):\n",
    "        ruta_archivo = os.path.join(carpeta_tweets, nombre_archivo)\n",
    "\n",
    "        datos = []\n",
    "        with open(ruta_archivo, mode='r', encoding='utf-8') as archivo:\n",
    "            for linea in archivo:\n",
    "                partes = linea.strip().split(\"#############\")\n",
    "                if len(partes) != 3:\n",
    "                    continue\n",
    "\n",
    "                texto, etiquetas, tweet_padre = partes\n",
    "\n",
    "                etiquetas_set = set(et.strip() for et in etiquetas.split(\",\") if et.strip())\n",
    "                if not etiquetas_set:\n",
    "                    etiquetas_set = {\"Incensurable\"}\n",
    "\n",
    "                fila = {\n",
    "                    \"Tweet\": texto,\n",
    "                    \"Tweet_Padre\": tweet_padre\n",
    "                }\n",
    "\n",
    "                for cat in categorias_posibles:\n",
    "                    fila[cat] = int(cat in etiquetas_set)\n",
    "\n",
    "                datos.append(fila)\n",
    "\n",
    "        nombre_df = os.path.splitext(nombre_archivo)[0]\n",
    "        df = pd.DataFrame(datos)\n",
    "        dataframes_por_archivo[nombre_df] = df\n",
    "\n",
    "for nombre, df in dataframes_por_archivo.items():\n",
    "    print(f\"Primeras filas de {nombre}:\")\n",
    "    print(df.head())\n",
    "    print(\"\\n---\\n\")\n"
   ]
  },
  {
   "cell_type": "code",
   "execution_count": 9,
   "id": "ea3e4952",
   "metadata": {},
   "outputs": [
    {
     "name": "stdout",
     "output_type": "stream",
     "text": [
      "Conteo por categoría para: TweetsLako\n",
      "Violencia       50\n",
      "Homofobia       50\n",
      "Xenofobia       50\n",
      "Incensurable    50\n",
      "dtype: int64\n",
      "\n",
      "---\n",
      "\n"
     ]
    }
   ],
   "source": [
    "for nombre, df in dataframes_por_archivo.items():\n",
    "    print(f\"Conteo por categoría para: {nombre}\")\n",
    "    conteo_por_categoria = df[categorias_posibles].sum().sort_values(ascending=False)\n",
    "    print(conteo_por_categoria)\n",
    "    print(\"\\n---\\n\")\n",
    "\n"
   ]
  },
  {
   "cell_type": "code",
   "execution_count": 10,
   "id": "6dd5175f",
   "metadata": {},
   "outputs": [
    {
     "data": {
      "application/vnd.microsoft.datawrangler.viewer.v0+json": {
       "columns": [
        {
         "name": "index",
         "rawType": "int64",
         "type": "integer"
        },
        {
         "name": "Tweet",
         "rawType": "object",
         "type": "string"
        },
        {
         "name": "Tweet_Padre",
         "rawType": "object",
         "type": "string"
        },
        {
         "name": "Violencia",
         "rawType": "int64",
         "type": "integer"
        },
        {
         "name": "Homofobia",
         "rawType": "int64",
         "type": "integer"
        },
        {
         "name": "Xenofobia",
         "rawType": "int64",
         "type": "integer"
        },
        {
         "name": "Incensurable",
         "rawType": "int64",
         "type": "integer"
        }
       ],
       "conversionMethod": "pd.DataFrame",
       "ref": "2a35a165-841c-4dbb-b876-c1864a65863b",
       "rows": [
        [
         "0",
         "No queremos más venecos en Chile",
         "SinTweetPadre",
         "0",
         "0",
         "1",
         "0"
        ],
        [
         "1",
         "El negro Piñera se murió hace dos meses y ya NADIE se acuerda de él, Felipe Camiroaga se fue hace más de una década y los chilenos aún lo lloramos como si hubiera fallecido ayer, esa es la diferencia entre un tipo honorable y otro que era representante de una cueva de mafiosos. Cómo olvidar cuando Felipe Camiroaga fue amenazado por tocar a un ministro del desgobierno de Piraña.    #JuntemonosConFelipe #JuntemonosConFelipe",
         "SinTweetPadre",
         "0",
         "0",
         "0",
         "1"
        ],
        [
         "2",
         "“De venir de la calle …a vivir de lujos gracias al Estado..a vivir la Vida Rosa ..BORIC LE MINTIÓ A TODO CHILE”  “Nadie renuncia a nada están apenados hasta recibir el último peso del Estado” SINVERGÜENZAS !!",
         "SinTweetPadre",
         "0",
         "0",
         "0",
         "1"
        ],
        [
         "3",
         "5:47 y ya está oscuro, ¿esa wea querian los invernistas?",
         "SinTweetPadre",
         "0",
         "0",
         "0",
         "1"
        ],
        [
         "4",
         "Uno se pregunta como negros qls pobres q vagan por las calles, con problemas mentales, sin nada q aportar llegaron a Chile desde una isla en el caribe",
         "SinTweetPadre",
         "0",
         "0",
         "1",
         "0"
        ]
       ],
       "shape": {
        "columns": 6,
        "rows": 5
       }
      },
      "text/html": [
       "<div>\n",
       "<style scoped>\n",
       "    .dataframe tbody tr th:only-of-type {\n",
       "        vertical-align: middle;\n",
       "    }\n",
       "\n",
       "    .dataframe tbody tr th {\n",
       "        vertical-align: top;\n",
       "    }\n",
       "\n",
       "    .dataframe thead th {\n",
       "        text-align: right;\n",
       "    }\n",
       "</style>\n",
       "<table border=\"1\" class=\"dataframe\">\n",
       "  <thead>\n",
       "    <tr style=\"text-align: right;\">\n",
       "      <th></th>\n",
       "      <th>Tweet</th>\n",
       "      <th>Tweet_Padre</th>\n",
       "      <th>Violencia</th>\n",
       "      <th>Homofobia</th>\n",
       "      <th>Xenofobia</th>\n",
       "      <th>Incensurable</th>\n",
       "    </tr>\n",
       "  </thead>\n",
       "  <tbody>\n",
       "    <tr>\n",
       "      <th>0</th>\n",
       "      <td>No queremos más venecos en Chile</td>\n",
       "      <td>SinTweetPadre</td>\n",
       "      <td>0</td>\n",
       "      <td>0</td>\n",
       "      <td>1</td>\n",
       "      <td>0</td>\n",
       "    </tr>\n",
       "    <tr>\n",
       "      <th>1</th>\n",
       "      <td>El negro Piñera se murió hace dos meses y ya N...</td>\n",
       "      <td>SinTweetPadre</td>\n",
       "      <td>0</td>\n",
       "      <td>0</td>\n",
       "      <td>0</td>\n",
       "      <td>1</td>\n",
       "    </tr>\n",
       "    <tr>\n",
       "      <th>2</th>\n",
       "      <td>“De venir de la calle …a vivir de lujos gracia...</td>\n",
       "      <td>SinTweetPadre</td>\n",
       "      <td>0</td>\n",
       "      <td>0</td>\n",
       "      <td>0</td>\n",
       "      <td>1</td>\n",
       "    </tr>\n",
       "    <tr>\n",
       "      <th>3</th>\n",
       "      <td>5:47 y ya está oscuro, ¿esa wea querian los in...</td>\n",
       "      <td>SinTweetPadre</td>\n",
       "      <td>0</td>\n",
       "      <td>0</td>\n",
       "      <td>0</td>\n",
       "      <td>1</td>\n",
       "    </tr>\n",
       "    <tr>\n",
       "      <th>4</th>\n",
       "      <td>Uno se pregunta como negros qls pobres q vagan...</td>\n",
       "      <td>SinTweetPadre</td>\n",
       "      <td>0</td>\n",
       "      <td>0</td>\n",
       "      <td>1</td>\n",
       "      <td>0</td>\n",
       "    </tr>\n",
       "  </tbody>\n",
       "</table>\n",
       "</div>"
      ],
      "text/plain": [
       "                                               Tweet    Tweet_Padre  \\\n",
       "0                   No queremos más venecos en Chile  SinTweetPadre   \n",
       "1  El negro Piñera se murió hace dos meses y ya N...  SinTweetPadre   \n",
       "2  “De venir de la calle …a vivir de lujos gracia...  SinTweetPadre   \n",
       "3  5:47 y ya está oscuro, ¿esa wea querian los in...  SinTweetPadre   \n",
       "4  Uno se pregunta como negros qls pobres q vagan...  SinTweetPadre   \n",
       "\n",
       "   Violencia  Homofobia  Xenofobia  Incensurable  \n",
       "0          0          0          1             0  \n",
       "1          0          0          0             1  \n",
       "2          0          0          0             1  \n",
       "3          0          0          0             1  \n",
       "4          0          0          1             0  "
      ]
     },
     "execution_count": 10,
     "metadata": {},
     "output_type": "execute_result"
    }
   ],
   "source": [
    "df_unificado = pd.concat(dataframes_por_archivo.values(), ignore_index=True)\n",
    "df_unificado.head()"
   ]
  },
  {
   "cell_type": "code",
   "execution_count": 11,
   "id": "77c799a4",
   "metadata": {},
   "outputs": [
    {
     "name": "stdout",
     "output_type": "stream",
     "text": [
      "Tweets duplicados:\n",
      "Empty DataFrame\n",
      "Columns: [Tweet, Tweet_Padre, Violencia, Homofobia, Xenofobia, Incensurable]\n",
      "Index: []\n"
     ]
    }
   ],
   "source": [
    "tweets_duplicados = df_unificado[df_unificado.duplicated(subset='Tweet', keep=False)]\n",
    "\n",
    "print(\"Tweets duplicados:\")\n",
    "print(tweets_duplicados)\n"
   ]
  },
  {
   "cell_type": "code",
   "execution_count": 12,
   "id": "bdd83832",
   "metadata": {},
   "outputs": [
    {
     "data": {
      "application/vnd.microsoft.datawrangler.viewer.v0+json": {
       "columns": [
        {
         "name": "index",
         "rawType": "int64",
         "type": "integer"
        },
        {
         "name": "ID",
         "rawType": "int64",
         "type": "integer"
        },
        {
         "name": "Tweet",
         "rawType": "object",
         "type": "string"
        },
        {
         "name": "Tweet_Padre",
         "rawType": "object",
         "type": "string"
        },
        {
         "name": "Violencia",
         "rawType": "int64",
         "type": "integer"
        },
        {
         "name": "Homofobia",
         "rawType": "int64",
         "type": "integer"
        },
        {
         "name": "Xenofobia",
         "rawType": "int64",
         "type": "integer"
        },
        {
         "name": "Incensurable",
         "rawType": "int64",
         "type": "integer"
        }
       ],
       "conversionMethod": "pd.DataFrame",
       "ref": "c1028913-db2e-4da1-9c0b-ff0650eaec70",
       "rows": [
        [
         "0",
         "1",
         "No queremos más venecos en Chile",
         "SinTweetPadre",
         "0",
         "0",
         "1",
         "0"
        ],
        [
         "1",
         "2",
         "El negro Piñera se murió hace dos meses y ya NADIE se acuerda de él, Felipe Camiroaga se fue hace más de una década y los chilenos aún lo lloramos como si hubiera fallecido ayer, esa es la diferencia entre un tipo honorable y otro que era representante de una cueva de mafiosos. Cómo olvidar cuando Felipe Camiroaga fue amenazado por tocar a un ministro del desgobierno de Piraña.    #JuntemonosConFelipe #JuntemonosConFelipe",
         "SinTweetPadre",
         "0",
         "0",
         "0",
         "1"
        ],
        [
         "2",
         "3",
         "“De venir de la calle …a vivir de lujos gracias al Estado..a vivir la Vida Rosa ..BORIC LE MINTIÓ A TODO CHILE”  “Nadie renuncia a nada están apenados hasta recibir el último peso del Estado” SINVERGÜENZAS !!",
         "SinTweetPadre",
         "0",
         "0",
         "0",
         "1"
        ],
        [
         "3",
         "4",
         "5:47 y ya está oscuro, ¿esa wea querian los invernistas?",
         "SinTweetPadre",
         "0",
         "0",
         "0",
         "1"
        ],
        [
         "4",
         "5",
         "Uno se pregunta como negros qls pobres q vagan por las calles, con problemas mentales, sin nada q aportar llegaron a Chile desde una isla en el caribe",
         "SinTweetPadre",
         "0",
         "0",
         "1",
         "0"
        ]
       ],
       "shape": {
        "columns": 7,
        "rows": 5
       }
      },
      "text/html": [
       "<div>\n",
       "<style scoped>\n",
       "    .dataframe tbody tr th:only-of-type {\n",
       "        vertical-align: middle;\n",
       "    }\n",
       "\n",
       "    .dataframe tbody tr th {\n",
       "        vertical-align: top;\n",
       "    }\n",
       "\n",
       "    .dataframe thead th {\n",
       "        text-align: right;\n",
       "    }\n",
       "</style>\n",
       "<table border=\"1\" class=\"dataframe\">\n",
       "  <thead>\n",
       "    <tr style=\"text-align: right;\">\n",
       "      <th></th>\n",
       "      <th>ID</th>\n",
       "      <th>Tweet</th>\n",
       "      <th>Tweet_Padre</th>\n",
       "      <th>Violencia</th>\n",
       "      <th>Homofobia</th>\n",
       "      <th>Xenofobia</th>\n",
       "      <th>Incensurable</th>\n",
       "    </tr>\n",
       "  </thead>\n",
       "  <tbody>\n",
       "    <tr>\n",
       "      <th>0</th>\n",
       "      <td>1</td>\n",
       "      <td>No queremos más venecos en Chile</td>\n",
       "      <td>SinTweetPadre</td>\n",
       "      <td>0</td>\n",
       "      <td>0</td>\n",
       "      <td>1</td>\n",
       "      <td>0</td>\n",
       "    </tr>\n",
       "    <tr>\n",
       "      <th>1</th>\n",
       "      <td>2</td>\n",
       "      <td>El negro Piñera se murió hace dos meses y ya N...</td>\n",
       "      <td>SinTweetPadre</td>\n",
       "      <td>0</td>\n",
       "      <td>0</td>\n",
       "      <td>0</td>\n",
       "      <td>1</td>\n",
       "    </tr>\n",
       "    <tr>\n",
       "      <th>2</th>\n",
       "      <td>3</td>\n",
       "      <td>“De venir de la calle …a vivir de lujos gracia...</td>\n",
       "      <td>SinTweetPadre</td>\n",
       "      <td>0</td>\n",
       "      <td>0</td>\n",
       "      <td>0</td>\n",
       "      <td>1</td>\n",
       "    </tr>\n",
       "    <tr>\n",
       "      <th>3</th>\n",
       "      <td>4</td>\n",
       "      <td>5:47 y ya está oscuro, ¿esa wea querian los in...</td>\n",
       "      <td>SinTweetPadre</td>\n",
       "      <td>0</td>\n",
       "      <td>0</td>\n",
       "      <td>0</td>\n",
       "      <td>1</td>\n",
       "    </tr>\n",
       "    <tr>\n",
       "      <th>4</th>\n",
       "      <td>5</td>\n",
       "      <td>Uno se pregunta como negros qls pobres q vagan...</td>\n",
       "      <td>SinTweetPadre</td>\n",
       "      <td>0</td>\n",
       "      <td>0</td>\n",
       "      <td>1</td>\n",
       "      <td>0</td>\n",
       "    </tr>\n",
       "  </tbody>\n",
       "</table>\n",
       "</div>"
      ],
      "text/plain": [
       "   ID                                              Tweet    Tweet_Padre  \\\n",
       "0   1                   No queremos más venecos en Chile  SinTweetPadre   \n",
       "1   2  El negro Piñera se murió hace dos meses y ya N...  SinTweetPadre   \n",
       "2   3  “De venir de la calle …a vivir de lujos gracia...  SinTweetPadre   \n",
       "3   4  5:47 y ya está oscuro, ¿esa wea querian los in...  SinTweetPadre   \n",
       "4   5  Uno se pregunta como negros qls pobres q vagan...  SinTweetPadre   \n",
       "\n",
       "   Violencia  Homofobia  Xenofobia  Incensurable  \n",
       "0          0          0          1             0  \n",
       "1          0          0          0             1  \n",
       "2          0          0          0             1  \n",
       "3          0          0          0             1  \n",
       "4          0          0          1             0  "
      ]
     },
     "execution_count": 12,
     "metadata": {},
     "output_type": "execute_result"
    }
   ],
   "source": [
    "df_unificado['ID'] = range(1, len(df_unificado) + 1)\n",
    "\n",
    "columnas_ordenadas = ['ID'] + [col for col in df_unificado.columns if col != 'ID']\n",
    "df_unificado = df_unificado[columnas_ordenadas]\n",
    "\n",
    "df_unificado.head()\n"
   ]
  },
  {
   "cell_type": "code",
   "execution_count": 15,
   "id": "2959fe81",
   "metadata": {},
   "outputs": [
    {
     "name": "stdout",
     "output_type": "stream",
     "text": [
      "Número de tweets con 'X' en ID_Tweet_Padre (no se encontró el tweet padre): 92\n"
     ]
    },
    {
     "data": {
      "application/vnd.microsoft.datawrangler.viewer.v0+json": {
       "columns": [
        {
         "name": "index",
         "rawType": "int64",
         "type": "integer"
        },
        {
         "name": "ID",
         "rawType": "int64",
         "type": "integer"
        },
        {
         "name": "Tweet",
         "rawType": "object",
         "type": "string"
        },
        {
         "name": "Tweet_Padre",
         "rawType": "object",
         "type": "string"
        },
        {
         "name": "Violencia",
         "rawType": "int64",
         "type": "integer"
        },
        {
         "name": "Homofobia",
         "rawType": "int64",
         "type": "integer"
        },
        {
         "name": "Xenofobia",
         "rawType": "int64",
         "type": "integer"
        },
        {
         "name": "Incensurable",
         "rawType": "int64",
         "type": "integer"
        },
        {
         "name": "ID_Tweet_Padre",
         "rawType": "object",
         "type": "unknown"
        }
       ],
       "conversionMethod": "pd.DataFrame",
       "ref": "f9636286-ab92-44b1-880a-8b0c32a53d5f",
       "rows": [
        [
         "0",
         "1",
         "No queremos más venecos en Chile",
         "SinTweetPadre",
         "0",
         "0",
         "1",
         "0",
         null
        ],
        [
         "1",
         "2",
         "El negro Piñera se murió hace dos meses y ya NADIE se acuerda de él, Felipe Camiroaga se fue hace más de una década y los chilenos aún lo lloramos como si hubiera fallecido ayer, esa es la diferencia entre un tipo honorable y otro que era representante de una cueva de mafiosos. Cómo olvidar cuando Felipe Camiroaga fue amenazado por tocar a un ministro del desgobierno de Piraña.    #JuntemonosConFelipe #JuntemonosConFelipe",
         "SinTweetPadre",
         "0",
         "0",
         "0",
         "1",
         null
        ],
        [
         "2",
         "3",
         "“De venir de la calle …a vivir de lujos gracias al Estado..a vivir la Vida Rosa ..BORIC LE MINTIÓ A TODO CHILE”  “Nadie renuncia a nada están apenados hasta recibir el último peso del Estado” SINVERGÜENZAS !!",
         "SinTweetPadre",
         "0",
         "0",
         "0",
         "1",
         null
        ],
        [
         "3",
         "4",
         "5:47 y ya está oscuro, ¿esa wea querian los invernistas?",
         "SinTweetPadre",
         "0",
         "0",
         "0",
         "1",
         null
        ],
        [
         "4",
         "5",
         "Uno se pregunta como negros qls pobres q vagan por las calles, con problemas mentales, sin nada q aportar llegaron a Chile desde una isla en el caribe",
         "SinTweetPadre",
         "0",
         "0",
         "1",
         "0",
         null
        ]
       ],
       "shape": {
        "columns": 8,
        "rows": 5
       }
      },
      "text/html": [
       "<div>\n",
       "<style scoped>\n",
       "    .dataframe tbody tr th:only-of-type {\n",
       "        vertical-align: middle;\n",
       "    }\n",
       "\n",
       "    .dataframe tbody tr th {\n",
       "        vertical-align: top;\n",
       "    }\n",
       "\n",
       "    .dataframe thead th {\n",
       "        text-align: right;\n",
       "    }\n",
       "</style>\n",
       "<table border=\"1\" class=\"dataframe\">\n",
       "  <thead>\n",
       "    <tr style=\"text-align: right;\">\n",
       "      <th></th>\n",
       "      <th>ID</th>\n",
       "      <th>Tweet</th>\n",
       "      <th>Tweet_Padre</th>\n",
       "      <th>Violencia</th>\n",
       "      <th>Homofobia</th>\n",
       "      <th>Xenofobia</th>\n",
       "      <th>Incensurable</th>\n",
       "      <th>ID_Tweet_Padre</th>\n",
       "    </tr>\n",
       "  </thead>\n",
       "  <tbody>\n",
       "    <tr>\n",
       "      <th>0</th>\n",
       "      <td>1</td>\n",
       "      <td>No queremos más venecos en Chile</td>\n",
       "      <td>SinTweetPadre</td>\n",
       "      <td>0</td>\n",
       "      <td>0</td>\n",
       "      <td>1</td>\n",
       "      <td>0</td>\n",
       "      <td>NaN</td>\n",
       "    </tr>\n",
       "    <tr>\n",
       "      <th>1</th>\n",
       "      <td>2</td>\n",
       "      <td>El negro Piñera se murió hace dos meses y ya N...</td>\n",
       "      <td>SinTweetPadre</td>\n",
       "      <td>0</td>\n",
       "      <td>0</td>\n",
       "      <td>0</td>\n",
       "      <td>1</td>\n",
       "      <td>NaN</td>\n",
       "    </tr>\n",
       "    <tr>\n",
       "      <th>2</th>\n",
       "      <td>3</td>\n",
       "      <td>“De venir de la calle …a vivir de lujos gracia...</td>\n",
       "      <td>SinTweetPadre</td>\n",
       "      <td>0</td>\n",
       "      <td>0</td>\n",
       "      <td>0</td>\n",
       "      <td>1</td>\n",
       "      <td>NaN</td>\n",
       "    </tr>\n",
       "    <tr>\n",
       "      <th>3</th>\n",
       "      <td>4</td>\n",
       "      <td>5:47 y ya está oscuro, ¿esa wea querian los in...</td>\n",
       "      <td>SinTweetPadre</td>\n",
       "      <td>0</td>\n",
       "      <td>0</td>\n",
       "      <td>0</td>\n",
       "      <td>1</td>\n",
       "      <td>NaN</td>\n",
       "    </tr>\n",
       "    <tr>\n",
       "      <th>4</th>\n",
       "      <td>5</td>\n",
       "      <td>Uno se pregunta como negros qls pobres q vagan...</td>\n",
       "      <td>SinTweetPadre</td>\n",
       "      <td>0</td>\n",
       "      <td>0</td>\n",
       "      <td>1</td>\n",
       "      <td>0</td>\n",
       "      <td>NaN</td>\n",
       "    </tr>\n",
       "  </tbody>\n",
       "</table>\n",
       "</div>"
      ],
      "text/plain": [
       "   ID                                              Tweet    Tweet_Padre  \\\n",
       "0   1                   No queremos más venecos en Chile  SinTweetPadre   \n",
       "1   2  El negro Piñera se murió hace dos meses y ya N...  SinTweetPadre   \n",
       "2   3  “De venir de la calle …a vivir de lujos gracia...  SinTweetPadre   \n",
       "3   4  5:47 y ya está oscuro, ¿esa wea querian los in...  SinTweetPadre   \n",
       "4   5  Uno se pregunta como negros qls pobres q vagan...  SinTweetPadre   \n",
       "\n",
       "   Violencia  Homofobia  Xenofobia  Incensurable ID_Tweet_Padre  \n",
       "0          0          0          1             0            NaN  \n",
       "1          0          0          0             1            NaN  \n",
       "2          0          0          0             1            NaN  \n",
       "3          0          0          0             1            NaN  \n",
       "4          0          0          1             0            NaN  "
      ]
     },
     "execution_count": 15,
     "metadata": {},
     "output_type": "execute_result"
    }
   ],
   "source": [
    "texto_a_id = dict(zip(df_unificado['Tweet'], df_unificado['ID']))\n",
    "\n",
    "def obtener_id_padre(texto_padre):\n",
    "    if texto_padre == \"SinTweetPadre\":\n",
    "        return np.nan\n",
    "    return texto_a_id.get(texto_padre, \"X\")\n",
    "\n",
    "df_unificado['ID_Tweet_Padre'] = df_unificado['Tweet_Padre'].apply(obtener_id_padre)\n",
    "\n",
    "num_casos_X = (df_unificado['ID_Tweet_Padre'] == \"X\").sum()\n",
    "print(f\"Número de tweets con 'X' en ID_Tweet_Padre (no se encontró el tweet padre): {num_casos_X}\")\n",
    "\n",
    "df_unificado.head()\n"
   ]
  }
 ],
 "metadata": {
  "kernelspec": {
   "display_name": "tweets",
   "language": "python",
   "name": "python3"
  },
  "language_info": {
   "codemirror_mode": {
    "name": "ipython",
    "version": 3
   },
   "file_extension": ".py",
   "mimetype": "text/x-python",
   "name": "python",
   "nbconvert_exporter": "python",
   "pygments_lexer": "ipython3",
   "version": "3.11.2"
  }
 },
 "nbformat": 4,
 "nbformat_minor": 5
}
