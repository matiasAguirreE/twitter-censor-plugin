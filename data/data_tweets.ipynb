{
 "cells": [
  {
   "cell_type": "code",
   "execution_count": 74,
   "id": "8e1aff6e",
   "metadata": {},
   "outputs": [],
   "source": [
    "import os\n",
    "import pandas as pd\n",
    "import numpy as np\n",
    "\n",
    "carpeta_tweets = \"./tweets\"\n",
    "\n",
    "categorias_posibles = [\"Violencia\", \"Homofobia\", \"Xenofobia\", \"Incensurable\"]\n",
    "\n",
    "dataframes_por_archivo = {}\n",
    "\n",
    "for nombre_archivo in os.listdir(carpeta_tweets):\n",
    "    if nombre_archivo.endswith(\".txt\"):\n",
    "        ruta_archivo = os.path.join(carpeta_tweets, nombre_archivo)\n",
    "\n",
    "        datos = []\n",
    "        with open(ruta_archivo, mode='r', encoding='utf-8') as archivo:\n",
    "            for linea in archivo:\n",
    "                partes = linea.strip().split(\"#############\")\n",
    "                if len(partes) != 3:\n",
    "                    continue\n",
    "\n",
    "                texto, etiquetas, tweet_padre = partes\n",
    "\n",
    "                etiquetas_set = set(et.strip() for et in etiquetas.split(\",\") if et.strip())\n",
    "                if not etiquetas_set:\n",
    "                    etiquetas_set = {\"Incensurable\"}\n",
    "\n",
    "                fila = {\n",
    "                    \"Tweet\": texto,\n",
    "                    \"Tweet_Padre\": tweet_padre\n",
    "                }\n",
    "\n",
    "                for cat in categorias_posibles:\n",
    "                    fila[cat] = int(cat in etiquetas_set)\n",
    "\n",
    "                datos.append(fila)\n",
    "\n",
    "        nombre_df = os.path.splitext(nombre_archivo)[0]\n",
    "        df = pd.DataFrame(datos)\n",
    "        dataframes_por_archivo[nombre_df] = df"
   ]
  },
  {
   "cell_type": "code",
   "execution_count": 75,
   "id": "6dd5175f",
   "metadata": {},
   "outputs": [
    {
     "data": {
      "application/vnd.microsoft.datawrangler.viewer.v0+json": {
       "columns": [
        {
         "name": "index",
         "rawType": "int64",
         "type": "integer"
        },
        {
         "name": "Tweet",
         "rawType": "object",
         "type": "string"
        },
        {
         "name": "Tweet_Padre",
         "rawType": "object",
         "type": "string"
        },
        {
         "name": "Violencia",
         "rawType": "int64",
         "type": "integer"
        },
        {
         "name": "Homofobia",
         "rawType": "int64",
         "type": "integer"
        },
        {
         "name": "Xenofobia",
         "rawType": "int64",
         "type": "integer"
        },
        {
         "name": "Incensurable",
         "rawType": "int64",
         "type": "integer"
        }
       ],
       "ref": "d0815be0-104a-4182-98a8-7244553b14c7",
       "rows": [
        [
         "0",
         "@TomasVodanovic  tiene convertido Maipú en un basural lleno de lacra caribeña",
         "Policial Homicidio se registró la tarde de este martes en Lumen y 3 Norte en la comuna de Maipú, un sujeto que se encontraba en su bicicleta fue baleado por sujetos, la víctima tenía varios impactos de bala y falleció un Cesfam cercano  @biobio   @Louisvasquez23",
         "0",
         "0",
         "1",
         "0"
        ],
        [
         "1",
         "Adivinemos..... venekia!",
         " Esta noche en  #ReportajesT13 : Fiestas, máquinas tragamonedas y comercio sexual. Tras reclamos de vecinos en Estación Central, un operativo dejó al descubierto el funcionamiento de un casino clandestino. Lo más preocupante: pudimos constatar la presencia de niños en el lugar",
         "0",
         "0",
         "1",
         "0"
        ],
        [
         "2",
         "Y por q mejor no expulsan luego a los inmigrantes ilegales q entran con su mierda..???",
         " Nacidos entre 1971 y 1981 deben vacunarse contra sarampión.  EN VIVO  #T13Central  »  http://",
         "0",
         "0",
         "1",
         "0"
        ],
        [
         "3",
         "Balazos y se acaba esta mierda!",
         " Usan quebradas para esconderse y vigilar casas.  EN VIVO  #T13Central  »  http://",
         "1",
         "0",
         "0",
         "0"
        ],
        [
         "4",
         "Hay que poner guardias armados y eliminar esas basuras",
         "Pero que los confundan con conejos...",
         "1",
         "0",
         "0",
         "0"
        ]
       ],
       "shape": {
        "columns": 6,
        "rows": 5
       }
      },
      "text/html": [
       "<div>\n",
       "<style scoped>\n",
       "    .dataframe tbody tr th:only-of-type {\n",
       "        vertical-align: middle;\n",
       "    }\n",
       "\n",
       "    .dataframe tbody tr th {\n",
       "        vertical-align: top;\n",
       "    }\n",
       "\n",
       "    .dataframe thead th {\n",
       "        text-align: right;\n",
       "    }\n",
       "</style>\n",
       "<table border=\"1\" class=\"dataframe\">\n",
       "  <thead>\n",
       "    <tr style=\"text-align: right;\">\n",
       "      <th></th>\n",
       "      <th>Tweet</th>\n",
       "      <th>Tweet_Padre</th>\n",
       "      <th>Violencia</th>\n",
       "      <th>Homofobia</th>\n",
       "      <th>Xenofobia</th>\n",
       "      <th>Incensurable</th>\n",
       "    </tr>\n",
       "  </thead>\n",
       "  <tbody>\n",
       "    <tr>\n",
       "      <th>0</th>\n",
       "      <td>@TomasVodanovic  tiene convertido Maipú en un ...</td>\n",
       "      <td>Policial Homicidio se registró la tarde de est...</td>\n",
       "      <td>0</td>\n",
       "      <td>0</td>\n",
       "      <td>1</td>\n",
       "      <td>0</td>\n",
       "    </tr>\n",
       "    <tr>\n",
       "      <th>1</th>\n",
       "      <td>Adivinemos..... venekia!</td>\n",
       "      <td>Esta noche en  #ReportajesT13 : Fiestas, máqu...</td>\n",
       "      <td>0</td>\n",
       "      <td>0</td>\n",
       "      <td>1</td>\n",
       "      <td>0</td>\n",
       "    </tr>\n",
       "    <tr>\n",
       "      <th>2</th>\n",
       "      <td>Y por q mejor no expulsan luego a los inmigran...</td>\n",
       "      <td>Nacidos entre 1971 y 1981 deben vacunarse con...</td>\n",
       "      <td>0</td>\n",
       "      <td>0</td>\n",
       "      <td>1</td>\n",
       "      <td>0</td>\n",
       "    </tr>\n",
       "    <tr>\n",
       "      <th>3</th>\n",
       "      <td>Balazos y se acaba esta mierda!</td>\n",
       "      <td>Usan quebradas para esconderse y vigilar casa...</td>\n",
       "      <td>1</td>\n",
       "      <td>0</td>\n",
       "      <td>0</td>\n",
       "      <td>0</td>\n",
       "    </tr>\n",
       "    <tr>\n",
       "      <th>4</th>\n",
       "      <td>Hay que poner guardias armados y eliminar esas...</td>\n",
       "      <td>Pero que los confundan con conejos...</td>\n",
       "      <td>1</td>\n",
       "      <td>0</td>\n",
       "      <td>0</td>\n",
       "      <td>0</td>\n",
       "    </tr>\n",
       "  </tbody>\n",
       "</table>\n",
       "</div>"
      ],
      "text/plain": [
       "                                               Tweet  \\\n",
       "0  @TomasVodanovic  tiene convertido Maipú en un ...   \n",
       "1                           Adivinemos..... venekia!   \n",
       "2  Y por q mejor no expulsan luego a los inmigran...   \n",
       "3                    Balazos y se acaba esta mierda!   \n",
       "4  Hay que poner guardias armados y eliminar esas...   \n",
       "\n",
       "                                         Tweet_Padre  Violencia  Homofobia  \\\n",
       "0  Policial Homicidio se registró la tarde de est...          0          0   \n",
       "1   Esta noche en  #ReportajesT13 : Fiestas, máqu...          0          0   \n",
       "2   Nacidos entre 1971 y 1981 deben vacunarse con...          0          0   \n",
       "3   Usan quebradas para esconderse y vigilar casa...          1          0   \n",
       "4              Pero que los confundan con conejos...          1          0   \n",
       "\n",
       "   Xenofobia  Incensurable  \n",
       "0          1             0  \n",
       "1          1             0  \n",
       "2          1             0  \n",
       "3          0             0  \n",
       "4          0             0  "
      ]
     },
     "execution_count": 75,
     "metadata": {},
     "output_type": "execute_result"
    }
   ],
   "source": [
    "df_unificado = pd.concat(dataframes_por_archivo.values(), ignore_index=True)\n",
    "df_unificado.head()"
   ]
  },
  {
   "cell_type": "code",
   "execution_count": 76,
   "id": "88d38b4e",
   "metadata": {},
   "outputs": [
    {
     "data": {
      "text/plain": [
       "1008"
      ]
     },
     "execution_count": 76,
     "metadata": {},
     "output_type": "execute_result"
    }
   ],
   "source": [
    "df_unificado.shape[0]"
   ]
  },
  {
   "cell_type": "code",
   "execution_count": 77,
   "id": "e8b4f70e",
   "metadata": {},
   "outputs": [
    {
     "name": "stdout",
     "output_type": "stream",
     "text": [
      "Total de Tweets nulos: 2\n",
      "Total de Tweets padres nulos: 10\n"
     ]
    }
   ],
   "source": [
    "nulos_tweet = df_unificado['Tweet'].isna().sum()\n",
    "vacíos_tweet = (df_unificado['Tweet'].astype(str).str.strip() == \"\").sum()\n",
    "nulos_tweet_padre = df_unificado['Tweet_Padre'].isna().sum()\n",
    "vacíos_tweet_padre = (df_unificado['Tweet_Padre'].astype(str).str.strip() == \"\").sum()\n",
    "\n",
    "print(f\"Total de Tweets nulos: {nulos_tweet + vacíos_tweet}\")\n",
    "print(f\"Total de Tweets padres nulos: {nulos_tweet_padre + vacíos_tweet_padre}\")\n"
   ]
  },
  {
   "cell_type": "code",
   "execution_count": 78,
   "id": "870c0129",
   "metadata": {},
   "outputs": [],
   "source": [
    "df_unificado['Tweet_Padre'] = df_unificado['Tweet_Padre'].fillna(\"SinTweetPadre\")\n",
    "df_unificado['Tweet_Padre'] = df_unificado['Tweet_Padre'].apply(\n",
    "    lambda x: \"SinTweetPadre\" if isinstance(x, str) and x.strip() == \"\" else x\n",
    ")\n",
    "\n",
    "df_unificado = df_unificado.dropna(subset=['Tweet'])\n",
    "df_unificado = df_unificado[df_unificado['Tweet'].str.strip() != \"\"]\n",
    "\n",
    "\n",
    "df_unificado = df_unificado.drop_duplicates()\n"
   ]
  },
  {
   "cell_type": "code",
   "execution_count": 79,
   "id": "77c799a4",
   "metadata": {},
   "outputs": [
    {
     "name": "stdout",
     "output_type": "stream",
     "text": [
      "Número total de tweets con texto repetido: 6\n"
     ]
    },
    {
     "data": {
      "application/vnd.microsoft.datawrangler.viewer.v0+json": {
       "columns": [
        {
         "name": "index",
         "rawType": "int64",
         "type": "integer"
        },
        {
         "name": "Tweet",
         "rawType": "object",
         "type": "string"
        },
        {
         "name": "Tweet_Padre",
         "rawType": "object",
         "type": "string"
        },
        {
         "name": "Violencia",
         "rawType": "int64",
         "type": "integer"
        },
        {
         "name": "Homofobia",
         "rawType": "int64",
         "type": "integer"
        },
        {
         "name": "Xenofobia",
         "rawType": "int64",
         "type": "integer"
        },
        {
         "name": "Incensurable",
         "rawType": "int64",
         "type": "integer"
        }
       ],
       "ref": "83550e9c-7737-4e04-af8d-2454d2f33be7",
       "rows": [
        [
         "551",
         "La  xenofobia  es un deber estético y ético.  CARIBEÑOS MUGRIENTOS INCOMPATIBLES CON LA CIVILIZACIÓN Cubana en Chile cuenta cómo sufre con el invierno santiaguino: “No me baño hasta que se vaya el frío”  https://cnnchile.com/tendencias/cubana-chile-frio-tiktok-mayo_20250516/… https:// ana-chile-frio-tiktok-mayo_20250516/ …",
         "SinTweetPadre",
         "1",
         "0",
         "1",
         "0"
        ],
        [
         "951",
         "La  xenofobia  es un deber estético y ético.  CARIBEÑOS MUGRIENTOS INCOMPATIBLES CON LA CIVILIZACIÓN Cubana en Chile cuenta cómo sufre con el invierno santiaguino: “No me baño hasta que se vaya el frío”  https://cnnchile.com/tendencias/cubana-chile-frio-tiktok-mayo_20250516/… https:// ana-chile-frio-tiktok-mayo_20250516/ …",
         "SinTweetPadre",
         "0",
         "0",
         "1",
         "0"
        ],
        [
         "56",
         "No queremos más venecos en Chile",
         "Repito: que puto asco  . Tienen algo decente para destacar estos engendros d Chávez?",
         "0",
         "0",
         "1",
         "0"
        ],
        [
         "634",
         "No queremos más venecos en Chile",
         "SinTweetPadre",
         "0",
         "0",
         "1",
         "0"
        ],
        [
         "20",
         "Wooo!! no había cacha'o .. veneco culiao cínico!!",
         "Si alguien reconoce su celular ubicar al veneco Javier Ramirez en estación central. Vayan con carabineros durante la noche y encontraran a 6 de estos tipos durmiendo en una pieza asi podran recuperar varios teléfonos de una  #venecos   #TodosSomosCooper   #venezolanos   #Temblor",
         "0",
         "0",
         "1",
         "0"
        ],
        [
         "677",
         "Wooo!! no había cacha'o .. veneco culiao cínico!!",
         "SinTweetPadre",
         "0",
         "0",
         "1",
         "0"
        ]
       ],
       "shape": {
        "columns": 6,
        "rows": 6
       }
      },
      "text/html": [
       "<div>\n",
       "<style scoped>\n",
       "    .dataframe tbody tr th:only-of-type {\n",
       "        vertical-align: middle;\n",
       "    }\n",
       "\n",
       "    .dataframe tbody tr th {\n",
       "        vertical-align: top;\n",
       "    }\n",
       "\n",
       "    .dataframe thead th {\n",
       "        text-align: right;\n",
       "    }\n",
       "</style>\n",
       "<table border=\"1\" class=\"dataframe\">\n",
       "  <thead>\n",
       "    <tr style=\"text-align: right;\">\n",
       "      <th></th>\n",
       "      <th>Tweet</th>\n",
       "      <th>Tweet_Padre</th>\n",
       "      <th>Violencia</th>\n",
       "      <th>Homofobia</th>\n",
       "      <th>Xenofobia</th>\n",
       "      <th>Incensurable</th>\n",
       "    </tr>\n",
       "  </thead>\n",
       "  <tbody>\n",
       "    <tr>\n",
       "      <th>551</th>\n",
       "      <td>La  xenofobia  es un deber estético y ético.  ...</td>\n",
       "      <td>SinTweetPadre</td>\n",
       "      <td>1</td>\n",
       "      <td>0</td>\n",
       "      <td>1</td>\n",
       "      <td>0</td>\n",
       "    </tr>\n",
       "    <tr>\n",
       "      <th>951</th>\n",
       "      <td>La  xenofobia  es un deber estético y ético.  ...</td>\n",
       "      <td>SinTweetPadre</td>\n",
       "      <td>0</td>\n",
       "      <td>0</td>\n",
       "      <td>1</td>\n",
       "      <td>0</td>\n",
       "    </tr>\n",
       "    <tr>\n",
       "      <th>56</th>\n",
       "      <td>No queremos más venecos en Chile</td>\n",
       "      <td>Repito: que puto asco  . Tienen algo decente p...</td>\n",
       "      <td>0</td>\n",
       "      <td>0</td>\n",
       "      <td>1</td>\n",
       "      <td>0</td>\n",
       "    </tr>\n",
       "    <tr>\n",
       "      <th>634</th>\n",
       "      <td>No queremos más venecos en Chile</td>\n",
       "      <td>SinTweetPadre</td>\n",
       "      <td>0</td>\n",
       "      <td>0</td>\n",
       "      <td>1</td>\n",
       "      <td>0</td>\n",
       "    </tr>\n",
       "    <tr>\n",
       "      <th>20</th>\n",
       "      <td>Wooo!! no había cacha'o .. veneco culiao cínico!!</td>\n",
       "      <td>Si alguien reconoce su celular ubicar al venec...</td>\n",
       "      <td>0</td>\n",
       "      <td>0</td>\n",
       "      <td>1</td>\n",
       "      <td>0</td>\n",
       "    </tr>\n",
       "    <tr>\n",
       "      <th>677</th>\n",
       "      <td>Wooo!! no había cacha'o .. veneco culiao cínico!!</td>\n",
       "      <td>SinTweetPadre</td>\n",
       "      <td>0</td>\n",
       "      <td>0</td>\n",
       "      <td>1</td>\n",
       "      <td>0</td>\n",
       "    </tr>\n",
       "  </tbody>\n",
       "</table>\n",
       "</div>"
      ],
      "text/plain": [
       "                                                 Tweet  \\\n",
       "551  La  xenofobia  es un deber estético y ético.  ...   \n",
       "951  La  xenofobia  es un deber estético y ético.  ...   \n",
       "56                    No queremos más venecos en Chile   \n",
       "634                   No queremos más venecos en Chile   \n",
       "20   Wooo!! no había cacha'o .. veneco culiao cínico!!   \n",
       "677  Wooo!! no había cacha'o .. veneco culiao cínico!!   \n",
       "\n",
       "                                           Tweet_Padre  Violencia  Homofobia  \\\n",
       "551                                      SinTweetPadre          1          0   \n",
       "951                                      SinTweetPadre          0          0   \n",
       "56   Repito: que puto asco  . Tienen algo decente p...          0          0   \n",
       "634                                      SinTweetPadre          0          0   \n",
       "20   Si alguien reconoce su celular ubicar al venec...          0          0   \n",
       "677                                      SinTweetPadre          0          0   \n",
       "\n",
       "     Xenofobia  Incensurable  \n",
       "551          1             0  \n",
       "951          1             0  \n",
       "56           1             0  \n",
       "634          1             0  \n",
       "20           1             0  \n",
       "677          1             0  "
      ]
     },
     "metadata": {},
     "output_type": "display_data"
    }
   ],
   "source": [
    "duplicados = df_unificado.duplicated(subset='Tweet', keep=False)\n",
    "\n",
    "num_duplicados = duplicados.sum()\n",
    "print(f\"Número total de tweets con texto repetido: {num_duplicados}\")\n",
    "\n",
    "tweets_duplicados = df_unificado[duplicados].sort_values('Tweet')\n",
    "display(tweets_duplicados)\n"
   ]
  },
  {
   "cell_type": "code",
   "execution_count": 80,
   "id": "9abad13e",
   "metadata": {},
   "outputs": [
    {
     "name": "stdout",
     "output_type": "stream",
     "text": [
      "Número total de tweets con texto repetido: 0\n"
     ]
    }
   ],
   "source": [
    "df_unificado = df_unificado.drop([951, 634, 677])\n",
    "df_unificado = df_unificado.reset_index(drop=True) \n",
    "\n",
    "duplicados = df_unificado.duplicated(subset='Tweet', keep=False)\n",
    "\n",
    "num_duplicados = duplicados.sum()\n",
    "print(f\"Número total de tweets con texto repetido: {num_duplicados}\")\n"
   ]
  },
  {
   "cell_type": "code",
   "execution_count": 81,
   "id": "bdd83832",
   "metadata": {},
   "outputs": [
    {
     "data": {
      "application/vnd.microsoft.datawrangler.viewer.v0+json": {
       "columns": [
        {
         "name": "index",
         "rawType": "int64",
         "type": "integer"
        },
        {
         "name": "ID",
         "rawType": "int64",
         "type": "integer"
        },
        {
         "name": "Tweet",
         "rawType": "object",
         "type": "string"
        },
        {
         "name": "Tweet_Padre",
         "rawType": "object",
         "type": "string"
        },
        {
         "name": "Violencia",
         "rawType": "int64",
         "type": "integer"
        },
        {
         "name": "Homofobia",
         "rawType": "int64",
         "type": "integer"
        },
        {
         "name": "Xenofobia",
         "rawType": "int64",
         "type": "integer"
        },
        {
         "name": "Incensurable",
         "rawType": "int64",
         "type": "integer"
        }
       ],
       "ref": "456717f3-9738-4b52-b923-4012447e1bab",
       "rows": [
        [
         "0",
         "1",
         "@TomasVodanovic  tiene convertido Maipú en un basural lleno de lacra caribeña",
         "Policial Homicidio se registró la tarde de este martes en Lumen y 3 Norte en la comuna de Maipú, un sujeto que se encontraba en su bicicleta fue baleado por sujetos, la víctima tenía varios impactos de bala y falleció un Cesfam cercano  @biobio   @Louisvasquez23",
         "0",
         "0",
         "1",
         "0"
        ],
        [
         "1",
         "2",
         "Adivinemos..... venekia!",
         " Esta noche en  #ReportajesT13 : Fiestas, máquinas tragamonedas y comercio sexual. Tras reclamos de vecinos en Estación Central, un operativo dejó al descubierto el funcionamiento de un casino clandestino. Lo más preocupante: pudimos constatar la presencia de niños en el lugar",
         "0",
         "0",
         "1",
         "0"
        ],
        [
         "2",
         "3",
         "Y por q mejor no expulsan luego a los inmigrantes ilegales q entran con su mierda..???",
         " Nacidos entre 1971 y 1981 deben vacunarse contra sarampión.  EN VIVO  #T13Central  »  http://",
         "0",
         "0",
         "1",
         "0"
        ],
        [
         "3",
         "4",
         "Balazos y se acaba esta mierda!",
         " Usan quebradas para esconderse y vigilar casas.  EN VIVO  #T13Central  »  http://",
         "1",
         "0",
         "0",
         "0"
        ],
        [
         "4",
         "5",
         "Hay que poner guardias armados y eliminar esas basuras",
         "Pero que los confundan con conejos...",
         "1",
         "0",
         "0",
         "0"
        ]
       ],
       "shape": {
        "columns": 7,
        "rows": 5
       }
      },
      "text/html": [
       "<div>\n",
       "<style scoped>\n",
       "    .dataframe tbody tr th:only-of-type {\n",
       "        vertical-align: middle;\n",
       "    }\n",
       "\n",
       "    .dataframe tbody tr th {\n",
       "        vertical-align: top;\n",
       "    }\n",
       "\n",
       "    .dataframe thead th {\n",
       "        text-align: right;\n",
       "    }\n",
       "</style>\n",
       "<table border=\"1\" class=\"dataframe\">\n",
       "  <thead>\n",
       "    <tr style=\"text-align: right;\">\n",
       "      <th></th>\n",
       "      <th>ID</th>\n",
       "      <th>Tweet</th>\n",
       "      <th>Tweet_Padre</th>\n",
       "      <th>Violencia</th>\n",
       "      <th>Homofobia</th>\n",
       "      <th>Xenofobia</th>\n",
       "      <th>Incensurable</th>\n",
       "    </tr>\n",
       "  </thead>\n",
       "  <tbody>\n",
       "    <tr>\n",
       "      <th>0</th>\n",
       "      <td>1</td>\n",
       "      <td>@TomasVodanovic  tiene convertido Maipú en un ...</td>\n",
       "      <td>Policial Homicidio se registró la tarde de est...</td>\n",
       "      <td>0</td>\n",
       "      <td>0</td>\n",
       "      <td>1</td>\n",
       "      <td>0</td>\n",
       "    </tr>\n",
       "    <tr>\n",
       "      <th>1</th>\n",
       "      <td>2</td>\n",
       "      <td>Adivinemos..... venekia!</td>\n",
       "      <td>Esta noche en  #ReportajesT13 : Fiestas, máqu...</td>\n",
       "      <td>0</td>\n",
       "      <td>0</td>\n",
       "      <td>1</td>\n",
       "      <td>0</td>\n",
       "    </tr>\n",
       "    <tr>\n",
       "      <th>2</th>\n",
       "      <td>3</td>\n",
       "      <td>Y por q mejor no expulsan luego a los inmigran...</td>\n",
       "      <td>Nacidos entre 1971 y 1981 deben vacunarse con...</td>\n",
       "      <td>0</td>\n",
       "      <td>0</td>\n",
       "      <td>1</td>\n",
       "      <td>0</td>\n",
       "    </tr>\n",
       "    <tr>\n",
       "      <th>3</th>\n",
       "      <td>4</td>\n",
       "      <td>Balazos y se acaba esta mierda!</td>\n",
       "      <td>Usan quebradas para esconderse y vigilar casa...</td>\n",
       "      <td>1</td>\n",
       "      <td>0</td>\n",
       "      <td>0</td>\n",
       "      <td>0</td>\n",
       "    </tr>\n",
       "    <tr>\n",
       "      <th>4</th>\n",
       "      <td>5</td>\n",
       "      <td>Hay que poner guardias armados y eliminar esas...</td>\n",
       "      <td>Pero que los confundan con conejos...</td>\n",
       "      <td>1</td>\n",
       "      <td>0</td>\n",
       "      <td>0</td>\n",
       "      <td>0</td>\n",
       "    </tr>\n",
       "  </tbody>\n",
       "</table>\n",
       "</div>"
      ],
      "text/plain": [
       "   ID                                              Tweet  \\\n",
       "0   1  @TomasVodanovic  tiene convertido Maipú en un ...   \n",
       "1   2                           Adivinemos..... venekia!   \n",
       "2   3  Y por q mejor no expulsan luego a los inmigran...   \n",
       "3   4                    Balazos y se acaba esta mierda!   \n",
       "4   5  Hay que poner guardias armados y eliminar esas...   \n",
       "\n",
       "                                         Tweet_Padre  Violencia  Homofobia  \\\n",
       "0  Policial Homicidio se registró la tarde de est...          0          0   \n",
       "1   Esta noche en  #ReportajesT13 : Fiestas, máqu...          0          0   \n",
       "2   Nacidos entre 1971 y 1981 deben vacunarse con...          0          0   \n",
       "3   Usan quebradas para esconderse y vigilar casa...          1          0   \n",
       "4              Pero que los confundan con conejos...          1          0   \n",
       "\n",
       "   Xenofobia  Incensurable  \n",
       "0          1             0  \n",
       "1          1             0  \n",
       "2          1             0  \n",
       "3          0             0  \n",
       "4          0             0  "
      ]
     },
     "execution_count": 81,
     "metadata": {},
     "output_type": "execute_result"
    }
   ],
   "source": [
    "df_unificado['ID'] = range(1, len(df_unificado) + 1)\n",
    "\n",
    "columnas_ordenadas = ['ID'] + [col for col in df_unificado.columns if col != 'ID']\n",
    "df_unificado = df_unificado[columnas_ordenadas]\n",
    "\n",
    "df_unificado.head()\n"
   ]
  },
  {
   "cell_type": "code",
   "execution_count": 82,
   "id": "2959fe81",
   "metadata": {},
   "outputs": [
    {
     "name": "stdout",
     "output_type": "stream",
     "text": [
      "Número de tweets con 'X' en ID_Tweet_Padre (no se encontró el tweet padre): 241\n"
     ]
    },
    {
     "data": {
      "application/vnd.microsoft.datawrangler.viewer.v0+json": {
       "columns": [
        {
         "name": "index",
         "rawType": "int64",
         "type": "integer"
        },
        {
         "name": "ID",
         "rawType": "int64",
         "type": "integer"
        },
        {
         "name": "Tweet",
         "rawType": "object",
         "type": "string"
        },
        {
         "name": "Tweet_Padre",
         "rawType": "object",
         "type": "string"
        },
        {
         "name": "Violencia",
         "rawType": "int64",
         "type": "integer"
        },
        {
         "name": "Homofobia",
         "rawType": "int64",
         "type": "integer"
        },
        {
         "name": "Xenofobia",
         "rawType": "int64",
         "type": "integer"
        },
        {
         "name": "Incensurable",
         "rawType": "int64",
         "type": "integer"
        },
        {
         "name": "ID_Tweet_Padre",
         "rawType": "object",
         "type": "string"
        }
       ],
       "ref": "e17dc3e5-e702-4fbe-8deb-d376280ee70b",
       "rows": [
        [
         "0",
         "1",
         "@TomasVodanovic  tiene convertido Maipú en un basural lleno de lacra caribeña",
         "Policial Homicidio se registró la tarde de este martes en Lumen y 3 Norte en la comuna de Maipú, un sujeto que se encontraba en su bicicleta fue baleado por sujetos, la víctima tenía varios impactos de bala y falleció un Cesfam cercano  @biobio   @Louisvasquez23",
         "0",
         "0",
         "1",
         "0",
         "X"
        ],
        [
         "1",
         "2",
         "Adivinemos..... venekia!",
         " Esta noche en  #ReportajesT13 : Fiestas, máquinas tragamonedas y comercio sexual. Tras reclamos de vecinos en Estación Central, un operativo dejó al descubierto el funcionamiento de un casino clandestino. Lo más preocupante: pudimos constatar la presencia de niños en el lugar",
         "0",
         "0",
         "1",
         "0",
         "X"
        ],
        [
         "2",
         "3",
         "Y por q mejor no expulsan luego a los inmigrantes ilegales q entran con su mierda..???",
         " Nacidos entre 1971 y 1981 deben vacunarse contra sarampión.  EN VIVO  #T13Central  »  http://",
         "0",
         "0",
         "1",
         "0",
         "X"
        ],
        [
         "3",
         "4",
         "Balazos y se acaba esta mierda!",
         " Usan quebradas para esconderse y vigilar casas.  EN VIVO  #T13Central  »  http://",
         "1",
         "0",
         "0",
         "0",
         "X"
        ],
        [
         "4",
         "5",
         "Hay que poner guardias armados y eliminar esas basuras",
         "Pero que los confundan con conejos...",
         "1",
         "0",
         "0",
         "0",
         "X"
        ]
       ],
       "shape": {
        "columns": 8,
        "rows": 5
       }
      },
      "text/html": [
       "<div>\n",
       "<style scoped>\n",
       "    .dataframe tbody tr th:only-of-type {\n",
       "        vertical-align: middle;\n",
       "    }\n",
       "\n",
       "    .dataframe tbody tr th {\n",
       "        vertical-align: top;\n",
       "    }\n",
       "\n",
       "    .dataframe thead th {\n",
       "        text-align: right;\n",
       "    }\n",
       "</style>\n",
       "<table border=\"1\" class=\"dataframe\">\n",
       "  <thead>\n",
       "    <tr style=\"text-align: right;\">\n",
       "      <th></th>\n",
       "      <th>ID</th>\n",
       "      <th>Tweet</th>\n",
       "      <th>Tweet_Padre</th>\n",
       "      <th>Violencia</th>\n",
       "      <th>Homofobia</th>\n",
       "      <th>Xenofobia</th>\n",
       "      <th>Incensurable</th>\n",
       "      <th>ID_Tweet_Padre</th>\n",
       "    </tr>\n",
       "  </thead>\n",
       "  <tbody>\n",
       "    <tr>\n",
       "      <th>0</th>\n",
       "      <td>1</td>\n",
       "      <td>@TomasVodanovic  tiene convertido Maipú en un ...</td>\n",
       "      <td>Policial Homicidio se registró la tarde de est...</td>\n",
       "      <td>0</td>\n",
       "      <td>0</td>\n",
       "      <td>1</td>\n",
       "      <td>0</td>\n",
       "      <td>X</td>\n",
       "    </tr>\n",
       "    <tr>\n",
       "      <th>1</th>\n",
       "      <td>2</td>\n",
       "      <td>Adivinemos..... venekia!</td>\n",
       "      <td>Esta noche en  #ReportajesT13 : Fiestas, máqu...</td>\n",
       "      <td>0</td>\n",
       "      <td>0</td>\n",
       "      <td>1</td>\n",
       "      <td>0</td>\n",
       "      <td>X</td>\n",
       "    </tr>\n",
       "    <tr>\n",
       "      <th>2</th>\n",
       "      <td>3</td>\n",
       "      <td>Y por q mejor no expulsan luego a los inmigran...</td>\n",
       "      <td>Nacidos entre 1971 y 1981 deben vacunarse con...</td>\n",
       "      <td>0</td>\n",
       "      <td>0</td>\n",
       "      <td>1</td>\n",
       "      <td>0</td>\n",
       "      <td>X</td>\n",
       "    </tr>\n",
       "    <tr>\n",
       "      <th>3</th>\n",
       "      <td>4</td>\n",
       "      <td>Balazos y se acaba esta mierda!</td>\n",
       "      <td>Usan quebradas para esconderse y vigilar casa...</td>\n",
       "      <td>1</td>\n",
       "      <td>0</td>\n",
       "      <td>0</td>\n",
       "      <td>0</td>\n",
       "      <td>X</td>\n",
       "    </tr>\n",
       "    <tr>\n",
       "      <th>4</th>\n",
       "      <td>5</td>\n",
       "      <td>Hay que poner guardias armados y eliminar esas...</td>\n",
       "      <td>Pero que los confundan con conejos...</td>\n",
       "      <td>1</td>\n",
       "      <td>0</td>\n",
       "      <td>0</td>\n",
       "      <td>0</td>\n",
       "      <td>X</td>\n",
       "    </tr>\n",
       "  </tbody>\n",
       "</table>\n",
       "</div>"
      ],
      "text/plain": [
       "   ID                                              Tweet  \\\n",
       "0   1  @TomasVodanovic  tiene convertido Maipú en un ...   \n",
       "1   2                           Adivinemos..... venekia!   \n",
       "2   3  Y por q mejor no expulsan luego a los inmigran...   \n",
       "3   4                    Balazos y se acaba esta mierda!   \n",
       "4   5  Hay que poner guardias armados y eliminar esas...   \n",
       "\n",
       "                                         Tweet_Padre  Violencia  Homofobia  \\\n",
       "0  Policial Homicidio se registró la tarde de est...          0          0   \n",
       "1   Esta noche en  #ReportajesT13 : Fiestas, máqu...          0          0   \n",
       "2   Nacidos entre 1971 y 1981 deben vacunarse con...          0          0   \n",
       "3   Usan quebradas para esconderse y vigilar casa...          1          0   \n",
       "4              Pero que los confundan con conejos...          1          0   \n",
       "\n",
       "   Xenofobia  Incensurable ID_Tweet_Padre  \n",
       "0          1             0              X  \n",
       "1          1             0              X  \n",
       "2          1             0              X  \n",
       "3          0             0              X  \n",
       "4          0             0              X  "
      ]
     },
     "execution_count": 82,
     "metadata": {},
     "output_type": "execute_result"
    }
   ],
   "source": [
    "texto_a_id = dict(zip(df_unificado['Tweet'], df_unificado['ID']))\n",
    "\n",
    "def obtener_id_padre(texto_padre):\n",
    "    if texto_padre == \"SinTweetPadre\":\n",
    "        return np.nan\n",
    "    return texto_a_id.get(texto_padre, \"X\")\n",
    "\n",
    "df_unificado['ID_Tweet_Padre'] = df_unificado['Tweet_Padre'].apply(obtener_id_padre)\n",
    "\n",
    "num_casos_X = (df_unificado['ID_Tweet_Padre'] == \"X\").sum()\n",
    "print(f\"Número de tweets con 'X' en ID_Tweet_Padre (no se encontró el tweet padre): {num_casos_X}\")\n",
    "\n",
    "df_unificado.head()\n"
   ]
  },
  {
   "cell_type": "code",
   "execution_count": 83,
   "id": "460e92f4",
   "metadata": {},
   "outputs": [
    {
     "data": {
      "text/plain": [
       "999"
      ]
     },
     "execution_count": 83,
     "metadata": {},
     "output_type": "execute_result"
    }
   ],
   "source": [
    "df_unificado.shape[0]"
   ]
  },
  {
   "cell_type": "code",
   "execution_count": 84,
   "id": "71e46241",
   "metadata": {},
   "outputs": [],
   "source": [
    "df_unificado.to_csv(\"tweets_limpios.csv\", index=False, encoding='utf-8')"
   ]
  },
  {
   "cell_type": "code",
   "execution_count": 85,
   "id": "bdba5ffd",
   "metadata": {},
   "outputs": [
    {
     "data": {
      "text/plain": [
       "'\\nimport ipywidgets as widgets\\nfrom IPython.display import display, clear_output\\n\\ntweets_padres_faltantes = df_unificado[df_unificado[\\'ID_Tweet_Padre\\'] == \"X\"][\\'Tweet_Padre\\'].unique().tolist()\\n\\nnuevos_tweets = []\\n\\ncategorias_posibles = [\"Violencia\", \"Homofobia\", \"Xenofobia\", \"Incensurable\"]\\n\\nindex = 0\\n\\ntexto_output = widgets.Output()\\ndropdown_categorias = widgets.SelectMultiple(\\n    options=categorias_posibles,\\n    description=\\'Categorías:\\',\\n    style={\\'description_width\\': \\'initial\\'}\\n)\\nboton_guardar = widgets.Button(description=\"Guardar y siguiente\")\\nboton_omitir = widgets.Button(description=\"Omitir\")\\ninfo_label = widgets.Label()\\n\\ndef mostrar_tweet():\\n    with texto_output:\\n        clear_output()\\n        if index < len(tweets_padres_faltantes):\\n            print(f\"Tweet padre no encontrado ({index + 1}/{len(tweets_padres_faltantes)}):\")\\n            print(tweets_padres_faltantes[index])\\n        else:\\n            print(\"¡Todos los tweets padres han sido procesados!\")\\n\\ndef guardar_tweet(b):\\n    global index\\n    if index < len(tweets_padres_faltantes):\\n        texto = tweets_padres_faltantes[index]\\n        categorias = list(dropdown_categorias.value)\\n        etiquetas = categorias if categorias else [\"Incensurable\"]\\n        nuevo_id = df_unificado[\\'ID\\'].max() + 1\\n\\n        fila = {\\n            \"ID\": nuevo_id,\\n            \"Tweet\": texto,\\n            \"Tweet_Padre\": \"SinTweetPadre\",\\n            \"ID_Tweet_Padre\": np.nan\\n        }\\n        for cat in categorias_posibles:\\n            fila[cat] = int(cat in etiquetas)\\n\\n        nuevos_tweets.append(fila)\\n        index += 1\\n        mostrar_tweet()\\n\\ndef omitir_tweet(b):\\n    global index\\n    index += 1\\n    mostrar_tweet()\\n\\nboton_guardar.on_click(guardar_tweet)\\nboton_omitir.on_click(omitir_tweet)\\n\\nmostrar_tweet()\\ndisplay(texto_output, dropdown_categorias, boton_guardar, boton_omitir, info_label)\\n'"
      ]
     },
     "execution_count": 85,
     "metadata": {},
     "output_type": "execute_result"
    }
   ],
   "source": [
    "\"\"\"\n",
    "import ipywidgets as widgets\n",
    "from IPython.display import display, clear_output\n",
    "\n",
    "tweets_padres_faltantes = df_unificado[df_unificado['ID_Tweet_Padre'] == \"X\"]['Tweet_Padre'].unique().tolist()\n",
    "\n",
    "nuevos_tweets = []\n",
    "\n",
    "categorias_posibles = [\"Violencia\", \"Homofobia\", \"Xenofobia\", \"Incensurable\"]\n",
    "\n",
    "index = 0\n",
    "\n",
    "texto_output = widgets.Output()\n",
    "dropdown_categorias = widgets.SelectMultiple(\n",
    "    options=categorias_posibles,\n",
    "    description='Categorías:',\n",
    "    style={'description_width': 'initial'}\n",
    ")\n",
    "boton_guardar = widgets.Button(description=\"Guardar y siguiente\")\n",
    "boton_omitir = widgets.Button(description=\"Omitir\")\n",
    "info_label = widgets.Label()\n",
    "\n",
    "def mostrar_tweet():\n",
    "    with texto_output:\n",
    "        clear_output()\n",
    "        if index < len(tweets_padres_faltantes):\n",
    "            print(f\"Tweet padre no encontrado ({index + 1}/{len(tweets_padres_faltantes)}):\")\n",
    "            print(tweets_padres_faltantes[index])\n",
    "        else:\n",
    "            print(\"¡Todos los tweets padres han sido procesados!\")\n",
    "\n",
    "def guardar_tweet(b):\n",
    "    global index\n",
    "    if index < len(tweets_padres_faltantes):\n",
    "        texto = tweets_padres_faltantes[index]\n",
    "        categorias = list(dropdown_categorias.value)\n",
    "        etiquetas = categorias if categorias else [\"Incensurable\"]\n",
    "        nuevo_id = df_unificado['ID'].max() + 1\n",
    "\n",
    "        fila = {\n",
    "            \"ID\": nuevo_id,\n",
    "            \"Tweet\": texto,\n",
    "            \"Tweet_Padre\": \"SinTweetPadre\",\n",
    "            \"ID_Tweet_Padre\": np.nan\n",
    "        }\n",
    "        for cat in categorias_posibles:\n",
    "            fila[cat] = int(cat in etiquetas)\n",
    "\n",
    "        nuevos_tweets.append(fila)\n",
    "        index += 1\n",
    "        mostrar_tweet()\n",
    "\n",
    "def omitir_tweet(b):\n",
    "    global index\n",
    "    index += 1\n",
    "    mostrar_tweet()\n",
    "\n",
    "boton_guardar.on_click(guardar_tweet)\n",
    "boton_omitir.on_click(omitir_tweet)\n",
    "\n",
    "mostrar_tweet()\n",
    "display(texto_output, dropdown_categorias, boton_guardar, boton_omitir, info_label)\n",
    "\"\"\"\n"
   ]
  },
  {
   "cell_type": "code",
   "execution_count": 86,
   "id": "cf87f811",
   "metadata": {},
   "outputs": [
    {
     "data": {
      "text/plain": [
       "'\\ndf_unificado = pd.concat([df_unificado, pd.DataFrame(nuevos_tweets)], ignore_index=True)\\n\\ntexto_a_id = dict(zip(df_unificado[\\'Tweet\\'], df_unificado[\\'ID\\']))\\n\\ndf_unificado[\\'ID_Tweet_Padre\\'] = df_unificado[\\'Tweet_Padre\\'].apply(\\n    lambda x: np.nan if x == \"SinTweetPadre\" else texto_a_id.get(x, \"X\")\\n)\\n\\nprint(f\"Tweets con \\'X\\' restantes: {(df_unificado[\\'ID_Tweet_Padre\\'] == \\'X\\').sum()}\")\\n\\n'"
      ]
     },
     "execution_count": 86,
     "metadata": {},
     "output_type": "execute_result"
    }
   ],
   "source": [
    "\"\"\"\n",
    "df_unificado = pd.concat([df_unificado, pd.DataFrame(nuevos_tweets)], ignore_index=True)\n",
    "\n",
    "texto_a_id = dict(zip(df_unificado['Tweet'], df_unificado['ID']))\n",
    "\n",
    "df_unificado['ID_Tweet_Padre'] = df_unificado['Tweet_Padre'].apply(\n",
    "    lambda x: np.nan if x == \"SinTweetPadre\" else texto_a_id.get(x, \"X\")\n",
    ")\n",
    "\n",
    "print(f\"Tweets con 'X' restantes: {(df_unificado['ID_Tweet_Padre'] == 'X').sum()}\")\n",
    "\n",
    "\"\"\""
   ]
  }
 ],
 "metadata": {
  "kernelspec": {
   "display_name": "tweets",
   "language": "python",
   "name": "python3"
  },
  "language_info": {
   "codemirror_mode": {
    "name": "ipython",
    "version": 3
   },
   "file_extension": ".py",
   "mimetype": "text/x-python",
   "name": "python",
   "nbconvert_exporter": "python",
   "pygments_lexer": "ipython3",
   "version": "3.11.2"
  }
 },
 "nbformat": 4,
 "nbformat_minor": 5
}
